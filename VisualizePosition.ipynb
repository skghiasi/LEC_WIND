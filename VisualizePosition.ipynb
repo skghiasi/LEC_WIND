{
 "cells": [
  {
   "cell_type": "code",
   "execution_count": 16,
   "metadata": {},
   "outputs": [
    {
     "data": {
      "text/plain": [
       "(0.9608399356220566,\n",
       " 1.4891270040868576,\n",
       " 0.24921873466962313,\n",
       " 0.818468734669623)"
      ]
     },
     "execution_count": 16,
     "metadata": {},
     "output_type": "execute_result"
    },
    {
     "data": {
      "image/png": "[encoded data removed]",
      "text/plain": [
       "<matplotlib.figure.Figure at 0x254fd4ac550>"
      ]
     },
     "metadata": {},
     "output_type": "display_data"
    },
    {
     "data": {
      "image/png": "[encoded data removed]",
      "text/plain": [
       "<matplotlib.figure.Figure at 0x254fd93ae80>"
      ]
     },
     "metadata": {},
     "output_type": "display_data"
    },
    {
     "data": {
      "image/png": "[encoded data removed]",
      "text/plain": [
       "<matplotlib.figure.Figure at 0x254fd93a7f0>"
      ]
     },
     "metadata": {},
     "output_type": "display_data"
    }
   ],
   "source": [
    "import math\n",
    "import numpy as np\n",
    "from mpl_toolkits import mplot3d\n",
    "%matplotlib inline\n",
    "import numpy as np\n",
    "import matplotlib.pyplot as plt\n",
    "\n",
    "\n",
    "\n",
    "\n",
    "def tan_deg( tan ):\n",
    "    tan_in_degree = math.radians(tan)\n",
    "    return math.tan(tan_in_degree)\n",
    "\n",
    "def sin_deg( sin ):\n",
    "    sin_in_degree = math.radians(sin)\n",
    "    return math.sin(sin_in_degree)\n",
    "\n",
    "def cos_deg( cos ):\n",
    "    cos_in_degree = math.radians(cos)\n",
    "    return math.cos(cos_in_degree)\n",
    "\n",
    "def atan_deg(atan): \n",
    "    atan_rad = math.atan(atan)\n",
    "    return math.degrees(atan_rad)\n",
    "\n",
    "def vec_add (vec1 , vec2):\n",
    "    a0 = vec1[0] + vec2[0]\n",
    "    a1 = vec1[1] + vec2[1]\n",
    "    a2 = vec1[2] + vec2[2]\n",
    "    return (a0 , a1 , a2)\n",
    "\n",
    "def polar_to_cartesian( r , theta):\n",
    "    y = 0 ;\n",
    "    x = r * cos_deg(theta)\n",
    "    z = r * sin_deg(theta)\n",
    "    return (x , y , z)\n",
    "\n",
    "def inner(vec1 , vec2): \n",
    "    return vec1[0]*vec2[0] + vec1[1]*vec2[1] + vec1[2]*vec2[2]\n",
    "def vec_abs (vec):\n",
    "    sq = vec[0]*vec[0] + vec[1]*vec[1] + vec[2]*vec[2]\n",
    "    return math.sqrt(sq)\n",
    "def normal (vec): \n",
    "    mag = vec_abs(vec)\n",
    "    return (vec[0]/mag , vec[1]/mag , vec[2]/mag)\n",
    "\n",
    "\n",
    "resx = np.array([])\n",
    "resy = np.array([])\n",
    "resz = np.array([])\n",
    "\n",
    "\n",
    "    \n",
    "\n",
    "#A = -80.4493\n",
    "#B = 5.2082\n",
    "A = -78.1314\n",
    "B = 5.1217\n",
    "\n",
    "rpm = 12 \n",
    "omega = 6 * rpm\n",
    "\n",
    "tilt = 0\n",
    "yaw = 10 \n",
    "\n",
    "r = 0.345 * 0.75 \n",
    "distance_to_nose = 5.98\n",
    "#in order to be consistent with tracking code\n",
    "aprime = 90 + A \n",
    "t = 90 - tilt\n",
    "#############################################\n",
    "#CALCULATING NOSE VECTORS \n",
    "\n",
    "x_nose = distance_to_nose * cos_deg(B) * sin_deg(-A)\n",
    "y_nose = distance_to_nose * cos_deg(B) * cos_deg(-A)\n",
    "z_nose = distance_to_nose * sin_deg(B)\n",
    "\n",
    "#############################################\n",
    "for theta in range(0,360,2):\n",
    "    resx = np.append(resx , [x_nose + r*sin_deg(theta)*cos_deg(t)*cos_deg(aprime+yaw) + r*cos_deg(theta)*cos_deg(aprime+yaw-90)])\n",
    "    resy = np.append(resy , [y_nose + r*sin_deg(theta)*cos_deg(t)*sin_deg(aprime+yaw) + r*cos_deg(theta)*sin_deg(aprime+yaw-90)])\n",
    "    resz = np.append(resz , [z_nose + r*sin_deg(theta)*sin_deg(t)])\n",
    "    \n",
    "\n",
    "#resx = -resx\n",
    "#ax.plot3D(resx, resy, resz, 'gray')\n",
    "\n",
    "plt.plot(resx,resy,'green') # x - y\n",
    "plt.title('x - y')\n",
    "plt.axis('equal')\n",
    "plt.figure()\n",
    "plt.plot(resx,resz , 'red') # x - z\n",
    "plt.title('x - z')\n",
    "plt.axis('equal')\n",
    "plt.figure()\n",
    "plt.plot(resy,resz , 'blue')# y - z\n",
    "plt.title('y - z')\n",
    "plt.axis('equal')\n"
   ]
  },
  {
   "cell_type": "code",
   "execution_count": 17,
   "metadata": {},
   "outputs": [
    {
     "name": "stdout",
     "output_type": "stream",
     "text": [
      "1.8359722594151335\n"
     ]
    }
   ],
   "source": [
    "#set theta to an arbitrary point \n",
    "theta = 0 \n",
    "\n",
    "x = x_nose - r * cos_deg(theta) * cos_deg(yaw + A) + r * sin_deg(theta) * sin_deg(t) * sin_deg(A - yaw)\n",
    "y = y_nose - r * cos_deg(theta) * sin_deg(yaw + A) + r * sin_deg(theta) * sin_deg(t) * cos_deg(A - yaw)\n",
    "z = z_nose + r * sin_deg(theta) * cos_deg(t)\n",
    "\n",
    "xdot = r * omega * (sin_deg(theta)*cos_deg(yaw + A) + cos_deg(theta)*sin_deg(t)*sin_deg(A-yaw))\n",
    "ydot = r * omega * (sin_deg(theta)*sin_deg(yaw + A) + cos_deg(theta)*sin_deg(t)*cos_deg(A-yaw))\n",
    "zdot = r * omega * cos_deg(theta) * cos_deg(t)\n",
    "\n",
    "b = atan_deg ( z / math.sqrt(x**2 + y**2))\n",
    "\n",
    "bdot = (2*z*zdot*(x**2 + y**2) - z**2 * (2*x*xdot + 2*y*ydot))/((x**2 ))\n",
    "\n",
    "\n",
    "print(bdot)\n"
   ]
  }
 ],
 "metadata": {
  "kernelspec": {
   "display_name": "Python 3",
   "language": "python",
   "name": "python3"
  },
  "language_info": {
   "codemirror_mode": {
    "name": "ipython",
    "version": 3
   },
   "file_extension": ".py",
   "mimetype": "text/x-python",
   "name": "python",
   "nbconvert_exporter": "python",
   "pygments_lexer": "ipython3",
   "version": "3.6.4"
  }
 },
 "nbformat": 4,
 "nbformat_minor": 2
}
