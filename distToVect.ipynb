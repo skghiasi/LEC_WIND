{
 "cells": [
  {
   "cell_type": "code",
   "execution_count": 2,
   "metadata": {},
   "outputs": [
    {
     "name": "stdout",
     "output_type": "stream",
     "text": [
      "base = (-0.196728 , 2.968225 , 0.000000)\n",
      "height = (0.000000 , 0.000000 , 0.717313)\n"
     ]
    }
   ],
   "source": [
    "import math\n",
    "\n",
    "def tan_deg( tan ):\n",
    "    tan_in_degree = math.radians(tan)\n",
    "    return math.tan(tan_in_degree)\n",
    "\n",
    "def sin_deg( sin ):\n",
    "    sin_in_degree = math.radians(sin)\n",
    "    return math.sin(sin_in_degree)\n",
    "\n",
    "def cos_deg( cos ):\n",
    "    cos_in_degree = math.radians(cos)\n",
    "    return math.cos(cos_in_degree)\n",
    "\n",
    "def vec_add (vec1 , vec2):\n",
    "    a0 = vec1[0] + vec2[0]\n",
    "    a1 = vec1[1] + vec2[1]\n",
    "    a2 = vec1[2] + vec2[2]\n",
    "    return (a0 , a1 , a2)\n",
    "\n",
    "def polar_to_cartesian( r , theta):\n",
    "    y = 0 ;\n",
    "    x = r * cos_deg(theta)\n",
    "    z = r * sin_deg(theta)\n",
    "    return (x , y , z)\n",
    "\n",
    "#CALCULATING VECTORS \n",
    "a = -3.7919\n",
    "b = 13.5572\n",
    "distance_to_nose = 3.06\n",
    "\n",
    "\n",
    "x_base = distance_to_nose * cos_deg(b) * sin_deg(a)\n",
    "y_base = distance_to_nose * cos_deg(b) * cos_deg(a)\n",
    "z_base = 0 \n",
    "\n",
    "height = distance_to_nose * sin_deg(b)\n",
    "\n",
    "print(\"base = (%f , %f , %f)\" %(x_base , y_base , z_base))\n",
    "print(\"height = (%f , %f , %f)\" %(0 , 0 , height))\n",
    "\n"
   ]
  },
  {
   "cell_type": "code",
   "execution_count": null,
   "metadata": {},
   "outputs": [],
   "source": []
  },
  {
   "cell_type": "code",
   "execution_count": null,
   "metadata": {},
   "outputs": [],
   "source": []
  }
 ],
 "metadata": {
  "kernelspec": {
   "display_name": "Python 3",
   "language": "python",
   "name": "python3"
  },
  "language_info": {
   "codemirror_mode": {
    "name": "ipython",
    "version": 3
   },
   "file_extension": ".py",
   "mimetype": "text/x-python",
   "name": "python",
   "nbconvert_exporter": "python",
   "pygments_lexer": "ipython3",
   "version": "3.6.4"
  }
 },
 "nbformat": 4,
 "nbformat_minor": 2
}
