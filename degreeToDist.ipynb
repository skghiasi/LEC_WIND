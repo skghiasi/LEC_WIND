{
 "cells": [
  {
   "cell_type": "code",
   "execution_count": 16,
   "metadata": {},
   "outputs": [
    {
     "name": "stdout",
     "output_type": "stream",
     "text": [
      "A: -80.449300, B: 5.208200, dist: 5.985700\n"
     ]
    }
   ],
   "source": [
    "import math\n",
    "\n",
    "def tan_deg( tan ):\n",
    "    tan_in_degree = math.radians(tan)\n",
    "    return math.tan(tan_in_degree)\n",
    "\n",
    "def sin_deg( sin ):\n",
    "    sin_in_degree = math.radians(sin)\n",
    "    return math.sin(sin_in_degree)\n",
    "\n",
    "def cos_deg( cos ):\n",
    "    cos_in_degree = math.radians(cos)\n",
    "    return math.cos(cos_in_degree)\n",
    "\n",
    "def vec_add (vec1 , vec2):\n",
    "    a0 = vec1[0] + vec2[0]\n",
    "    a1 = vec1[1] + vec2[1]\n",
    "    a2 = vec1[2] + vec2[2]\n",
    "    return (a0 , a1 , a2)\n",
    "\n",
    "def polar_to_cartesian( r , theta):\n",
    "    y = 0 ;\n",
    "    x = r * cos_deg(theta)\n",
    "    z = r * sin_deg(theta)\n",
    "    return (x , y , z)\n",
    "\n",
    "def inner(vec1 , vec2): \n",
    "    return vec1[0]*vec2[0] + vec1[1]*vec2[1] + vec1[2]*vec2[2]\n",
    "def vec_abs (vec):\n",
    "    sq = vec[0]*vec[0] + vec[1]*vec[1] + vec[2]*vec[2]\n",
    "    return math.sqrt(sq)\n",
    "def normal (vec): \n",
    "    mag = vec_abs(vec)\n",
    "    return (vec[0]/mag , vec[1]/mag , vec[2]/mag)\n",
    "\n",
    "\n",
    "A = -80.4493\n",
    "B = 5.2082\n",
    "\n",
    "A_cen = -78.1314\n",
    "B_cen = 5.1217\n",
    "\n",
    "yaw = 0\n",
    "#distance to nose\n",
    "dn = 5.98\n",
    "\n",
    "a = -sin_deg(A)\n",
    "b = cos_deg(A)\n",
    "c = sin_deg(B)\n",
    "\n",
    "a_cen = -sin_deg(A_cen)\n",
    "b_cen = cos_deg(A_cen)\n",
    "c_cen = sin_deg(B_cen)\n",
    "             \n",
    "\n",
    "center = (a_cen,b_cen,c_cen)\n",
    "point = (a,b,c) \n",
    "\n",
    "#normalization: \n",
    "center = normal(center)\n",
    "point = normal(point)\n",
    "\n",
    "#finding yaw: \n",
    "yaw_vec = (sin_deg(A_cen + yaw),-cos_deg(A_cen + yaw),0)\n",
    "\n",
    "## SOLVE EQUATIONS\n",
    "L1 = yaw_vec[0]\n",
    "L2 = yaw_vec[1]\n",
    "\n",
    "coeff = (L1 * dn * center[0] + L2 * dn * center[1])/(point[0] * L1 + point[1] * L2)\n",
    "\n",
    "print(\"A: %f, B: %f, dist: %f\" %(A,B,coeff))\n"
   ]
  },
  {
   "cell_type": "code",
   "execution_count": null,
   "metadata": {},
   "outputs": [],
   "source": []
  }
 ],
 "metadata": {
  "kernelspec": {
   "display_name": "Python 3",
   "language": "python",
   "name": "python3"
  },
  "language_info": {
   "codemirror_mode": {
    "name": "ipython",
    "version": 3
   },
   "file_extension": ".py",
   "mimetype": "text/x-python",
   "name": "python",
   "nbconvert_exporter": "python",
   "pygments_lexer": "ipython3",
   "version": "3.6.4"
  }
 },
 "nbformat": 4,
 "nbformat_minor": 2
}
